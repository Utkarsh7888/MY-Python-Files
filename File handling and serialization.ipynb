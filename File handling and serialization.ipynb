{
 "cells": [
  {
   "cell_type": "code",
   "execution_count": 8,
   "id": "01db312c",
   "metadata": {},
   "outputs": [],
   "source": [
    "f = open('sample.txt','w') \n",
    "f.write('Hello world')\n",
    "f.close()"
   ]
  },
  {
   "cell_type": "code",
   "execution_count": 9,
   "id": "dbacc658",
   "metadata": {},
   "outputs": [],
   "source": [
    "f = open('sample1.txt','w')"
   ]
  },
  {
   "cell_type": "code",
   "execution_count": 10,
   "id": "12af7902",
   "metadata": {},
   "outputs": [
    {
     "data": {
      "text/plain": [
       "11"
      ]
     },
     "execution_count": 10,
     "metadata": {},
     "output_type": "execute_result"
    }
   ],
   "source": [
    "f.write('hello world')"
   ]
  },
  {
   "cell_type": "code",
   "execution_count": 11,
   "id": "6a5269a5",
   "metadata": {},
   "outputs": [],
   "source": [
    "f.close()"
   ]
  },
  {
   "cell_type": "code",
   "execution_count": 15,
   "id": "7a05b414",
   "metadata": {},
   "outputs": [
    {
     "data": {
      "text/plain": [
       "8"
      ]
     },
     "execution_count": 15,
     "metadata": {},
     "output_type": "execute_result"
    }
   ],
   "source": [
    "f = open('sample.txt','w')\n",
    "f.write('Salman bhai')\n",
    "f.write('yup yolo')"
   ]
  },
  {
   "cell_type": "code",
   "execution_count": 21,
   "id": "6151e5f0",
   "metadata": {},
   "outputs": [],
   "source": [
    "f = open('sample.txt','a')\n",
    "f.write('   Yolo yours')\n",
    "f.close()"
   ]
  },
  {
   "cell_type": "code",
   "execution_count": 25,
   "id": "cf2bca72",
   "metadata": {},
   "outputs": [],
   "source": [
    "l = ['frgdyjfytujfrtyufufgu']\n",
    "f = open('sample.txt','w')\n",
    "f.writelines(l)\n",
    "f.close()"
   ]
  },
  {
   "cell_type": "code",
   "execution_count": 26,
   "id": "cded197f",
   "metadata": {},
   "outputs": [
    {
     "name": "stdout",
     "output_type": "stream",
     "text": [
      "frgdyjfytujfrtyufufgu\n"
     ]
    }
   ],
   "source": [
    "f = open('sample.txt','r')\n",
    "s = f.read()\n",
    "print(s)\n",
    "f.close()"
   ]
  },
  {
   "cell_type": "code",
   "execution_count": 37,
   "id": "63e94fb2",
   "metadata": {},
   "outputs": [
    {
     "name": "stdout",
     "output_type": "stream",
     "text": [
      "frgdyjfytujfrtyufufgu"
     ]
    }
   ],
   "source": [
    "# reading entire using readline\n",
    "f = open('sample.txt','r')\n",
    "\n",
    "while True:\n",
    "\n",
    "  data = f.readline()\n",
    "\n",
    "  if data == '':\n",
    "    break\n",
    "  else:\n",
    "    print(data,end='')\n",
    "\n",
    "f.close()\n",
    "\n",
    "\n"
   ]
  },
  {
   "cell_type": "code",
   "execution_count": 45,
   "id": "554974c6",
   "metadata": {},
   "outputs": [],
   "source": [
    "with open('sample.txt','w') as f:\n",
    "    f.write('Raftar')"
   ]
  },
  {
   "cell_type": "code",
   "execution_count": 48,
   "id": "9c141150",
   "metadata": {},
   "outputs": [],
   "source": [
    "big_L = ['hello sir' for i in range(10000)]\n",
    "\n",
    "with open('big.txt','w') as f:\n",
    "    f.writelines(big_L)\n",
    "    \n",
    "    \n",
    "f.close()"
   ]
  },
  {
   "cell_type": "code",
   "execution_count": 51,
   "id": "8e0a27d4",
   "metadata": {},
   "outputs": [
    {
     "name": "stdout",
     "output_type": "stream",
     "text": [
      "ello sirhe***o sirhello***irhello si***ello sirhe***o sirhello***irhello si***ello sirhe***o sirhello***irhello si***ello sirhe***o sirhello***irhello si***ello sirhe***o sirhello***irhello si***ello sirhe***o sirhello***irhello si***ello sirhe***o sirhello***irhello si***ello sirhe***o sirhello***irhello si***ello sirhe***o sirhello***irhello si***ello sirhe***o sirhello***irhello si***ello sirhe***o sirhello***irhello si***ello sirhe***o sirhello***irhello si***ello sirhe***o sirhello***irhello si***ello sirhe***o sirhello***irhello si***ello sirhe***o sirhello***irhello si***ello sirhe***o sirhello***irhello si***ello sirhe***o sirhello***irhello si***ello sirhe***o sirhello***irhello si***ello sirhe***o sirhello***irhello si***ello sirhe***o sirhello***irhello si***ello sirhe***o sirhello***irhello si***ello sirhe***o sirhello***irhello si***ello sirhe***o sirhello***irhello si***ello sirhe***o sirhello***irhello si***ello sirhe***o sirhello***irhello si***ello sirhe***o sirhello***irhello si***ello sirhe***o sirhello***irhello si***ello sirhe***o sirhello***irhello si***ello sirhe***o sirhello***irhello si***ello sirhe***o sirhello***irhello si***ello sirhe***o sirhello***irhello si***ello sirhe***o sirhello***irhello si***ello sirhe***o sirhello***irhello si***ello sirhe***o sirhello***irhello si***ello sirhe***o sirhello***irhello si***ello sirhe***o sirhello***irhello si***ello sirhe***o sirhello***irhello si***ello sirhe***o sirhello***irhello si***ello sirhe***o sirhello***irhello si***ello sirhe***o sirhello***irhello si***ello sirhe***o sirhello***irhello si***ello sirhe***o sirhello***irhello si***ello sirhe***o sirhello***irhello si***ello sirhe***o sirhello***irhello si***ello sirhe***o sirhello***irhello si***ello sirhe***o sirhello***irhello si***ello sirhe***o sirhello***irhello si***ello sirhe***o sirhello***irhello si***ello sirhe***o sirhello***irhello si***ello sirhe***o sirhello***irhello si***ello sirhe***o sirhello***irhello si***ello sirhe***o sirhello***irhello si***ello sirhe***o sirhello***irhello si***ello sirhe***o sirhello***irhello si***ello sirhe***o sirhello***irhello si***ello sirhe***o sirhello***irhello si***ello sirhe***o sirhello***irhello si***ello sirhe***o sirhello***irhello si***ello sirhe***o sirhello***irhello si***ello sirhe***o sirhello***irhello si***ello sirhe***o sirhello***irhello si***ello sirhe***o sirhello***irhello si***ello sirhe***o sirhello***irhello si***ello sirhe***o sirhello***irhello si***ello sirhe***o sirhello***irhello si***ello sirhe***o sirhello***irhello si***ello sirhe***o sirhello***irhello si***ello sirhe***o sirhello***irhello si***ello sirhe***o sirhello***irhello si***ello sirhe***o sirhello***irhello si***ello sirhe***o sirhello***irhello si***ello sirhe***o sirhello***irhello si***ello sirhe***o sirhello***irhello si***ello sirhe***o sirhello***irhello si***ello sirhe***o sirhello***irhello si***ello sirhe***o sirhello***irhello si***ello sirhe***o sirhello***irhello si***ello sirhe***o sirhello***irhello si***ello sirhe***o sirhello***irhello si***ello sirhe***o sirhello***irhello si***ello sirhe***o sirhello***irhello si***ello sirhe***o sirhello***irhello si***ello sirhe***o sirhello***irhello si***ello sirhe***o sirhello***irhello si***ello sirhe***o sirhello***irhello si***ello sirhe***o sirhello***irhello si***ello sirhe***o sirhello***irhello si***ello sirhe***o sirhello***irhello si***ello sirhe***o sirhello***irhello si***ello sirhe***o sirhello***irhello si***ello sirhe***o sirhello***irhello si***ello sirhe***o sirhello***irhello si***ello sirhe***o sirhello***irhello si***ello sirhe***o sirhello***irhello si***ello sirhe***o sirhello***irhello si***ello sirhe***o sirhello***irhello si***ello sirhe***o sirhello***irhello si***ello sirhe***o sirhello***irhello si***ello sirhe***o sirhello***irhello si***ello sirhe***o sirhello***irhello si***ello sirhe***o sirhello***irhello si***ello sirhe***o sirhello***irhello si***ello sirhe***o sirhello***irhello si***ello sirhe***o sirhello***irhello si***ello sirhe***o sirhello***irhello si***ello sirhe***o sirhello***irhello si***ello sirhe***o sirhello***irhello si***ello sirhe***o sirhello***irhello si***ello sirhe***o sirhello***irhello si***ello sirhe***o sirhello***irhello si***ello sirhe***o sirhello***irhello si***ello sirhe***o sirhello***irhello si***ello sirhe***o sirhello***irhello si***ello sirhe***o sirhello***irhello si***ello sirhe***o sirhello***irhello si***ello sirhe***o sirhello***irhello si***ello sirhe***o sirhello***irhello si***ello sirhe***o sirhello***irhello si***ello sirhe***o sirhello***irhello si***ello sirhe***o sirhello***irhello si***ello sirhe***o sirhello***irhello si***ello sirhe***o sirhello***irhello si***ello sirhe***o sirhello***irhello si***ello sirhe***o sirhello***irhello si***ello sirhe***o sirhello***irhello si***ello sirhe***o sirhello***irhello si***ello sirhe***o sirhello***irhello si***ello sirhe***o sirhello***irhello si***ello sirhe***o sirhello***irhello si***ello sirhe***o sirhello***irhello si***ello sirhe***o sirhello***irhello si***ello sirhe***o sirhello***irhello si***ello sirhe***o sirhello***irhello si***ello sirhe***o sirhello***irhello si***ello sirhe***o sirhello***irhello si***ello sirhe***o sirhello***irhello si***ello sirhe***o sirhello***irhello si***ello sirhe***o sirhello***irhello si***ello sirhe***o sirhello***irhello si***ello sirhe***o sirhello***irhello si***ello sirhe***o sirhello***irhello si***ello sirhe***o sirhello***irhello si***ello sirhe***o sirhello***irhello si***ello sirhe***o sirhello***irhello si***ello sirhe***o sirhello***irhello si***ello sirhe***o sirhello***irhello si***ello sirhe***o sirhello***irhello si***ello sirhe***o sirhello***irhello si***ello sirhe***o sirhello***irhello si***ello sirhe***o sirhello***irhello si***ello sirhe***o sirhello***irhello si***ello sirhe***o sirhello***irhello si***ello sirhe***o sirhello***irhello si***ello sirhe***o sirhello***irhello si***ello sirhe***o sirhello***irhello si***ello sirhe***o sirhello***irhello si***ello sirhe***o sirhello***irhello si***ello sirhe***o sirhello***irhello si***ello sirhe***o sirhello***irhello si***ello sirhe***o sirhello***irhello si***ello sirhe***o sirhello***irhello si***ello sirhe***o sirhello***irhello si***ello sirhe***o sirhello***irhello si***ello sirhe***o sirhello***irhello si***ello sirhe***o sirhello***irhello si***ello sirhe***o sirhello***irhello si***ello sirhe***o sirhello***irhello si***ello sirhe***o sirhello***irhello si***ello sirhe***o sirhello***irhello si***ello sirhe***o sirhello***irhello si***ello sirhe***o sirhello***irhello si***ello sirhe***o sirhello***irhello si***ello sirhe***o sirhello***irhello si***ello sirhe***o sirhello***irhello si***ello sirhe***o sirhello***irhello si***ello sirhe***o sirhello***irhello si***ello sirhe***o sirhello***irhello si***ello sirhe***o sirhello***irhello si***ello sirhe***o sirhello***irhello si***ello sirhe***o sirhello***irhello si***ello sirhe***o sirhello***irhello si***ello sirhe***o sirhello***irhello si***ello sirhe***o sirhello***irhello si***ello sirhe***o sirhello***irhello si***ello sirhe***o sirhello***irhello si***ello sirhe***o sirhello***irhello si***ello sirhe***o sirhello***irhello si***ello sirhe***o sirhello***irhello si***ello sirhe***o sirhello***irhello si***ello sirhe***o sirhello***irhello si***ello sirhe***o sirhello***irhello si***ello sirhe***o sirhello***irhello si***ello sirhe***o sirhello***irhello si***ello sirhe***o sirhello***irhello si***ello sirhe***o sirhello***irhello si***ello sirhe***o sirhello***irhello si***ello sirhe***o sirhello***irhello si***ello sirhe***o sirhello***irhello si***ello sirhe***o sirhello***irhello si***ello sirhe***o sirhello***irhello si***ello sirhe***o sirhello***irhello si***ello sirhe***o sirhello***irhello si***ello sirhe***o sirhello***irhello si***ello sirhe***o sirhello***irhello si***ello sirhe***o sirhello***irhello si***ello sirhe***o sirhello***irhello si***ello sirhe***o sirhello***irhello si***ello sirhe***o sirhello***irhello si***ello sirhe***o sirhello***irhello si***ello sirhe***o sirhello***irhello si***ello sirhe***o sirhello***irhello si***ello sirhe***o sirhello***irhello si***ello sirhe***o sirhello***irhello si***ello sirhe***o sirhello***irhello si***ello sirhe***o sirhello***irhello si***ello sirhe***o sirhello***irhello si***ello sirhe***o sirhello***irhello si***ello sirhe***o sirhello***irhello si***ello sirhe***o sirhello***irhello si***ello sirhe***o sirhello***irhello si***ello sirhe***o sirhello***irhello si***ello sirhe***o sirhello***irhello si***ello sirhe***o sirhello***irhello si***ello sirhe***o sirhello***irhello si***ello sirhe***o sirhello***irhello si***ello sirhe***o sirhello***irhello si***ello sirhe***o sirhello***irhello si***ello sirhe***o sirhello***irhello si***ello sirhe***o sirhello***irhello si***ello sirhe***o sirhello***irhello si***ello sirhe***o sirhello***irhello si***ello sirhe***o sirhello***irhello si***ello sirhe***o sirhello***irhello si***ello sirhe***o sirhello***irhello si***ello sirhe***o sirhello***irhello si***ello sirhe***o sirhello***irhello si***ello sirhe***o sirhello***irhello si***ello sirhe***o sirhello***irhello si***ello sirhe***o sirhello***irhello si***ello sirhe***o sirhello***irhello si***ello sirhe***o sirhello***irhello si***ello sirhe***o sirhello***irhello si***ello sirhe***o sirhello***irhello si***ello sirhe***o sirhello***irhello si***ello sirhe***o sirhello***irhello si***ello sirhe***o sirhello***irhello si***ello sirhe***o sirhello***irhello si***ello sirhe***o sirhello***irhello si***ello sirhe***o sirhello***irhello si***ello sirhe***o sirhello***irhello si***ello sirhe***o sirhello***irhello si***ello sirhe***o sirhello***irhello si***ello sirhe***o sirhello***irhello si***ello sirhe***o sirhello***irhello si***ello sirhe***o sirhello***irhello si***ello sirhe***o sirhello***irhello si***ello sirhe***o sirhello***irhello si***ello sirhe***o sirhello***irhello si***ello sirhe***o sirhello***irhello si***ello sirhe***o sirhello***irhello si***ello sirhe***o sirhello***irhello si***ello sirhe***o sirhello***irhello si***ello sirhe***o sirhello***irhello si***ello sirhe***o sirhello***irhello si***ello sirhe***o sirhello***irhello si***ello sirhe***o sirhello***irhello si***ello sirhe***o sirhello***irhello si***ello sirhe***o sirhello***irhello si***ello sirhe***o sirhello***irhello si***ello sirhe***o sirhello***irhello si***ello sirhe***o sirhello***irhello si***ello sirhe***o sirhello***irhello si***ello sirhe***o sirhello***irhello si***ello sirhe***o sirhello***irhello si***ello sirhe***o sirhello***irhello si***ello sirhe***o sirhello***irhello si***ello sirhe***o sirhello***irhello si***ello sirhe***o sirhello***irhello si***ello sirhe***o sirhello***irhello si***ello sirhe***o sirhello***irhello si***ello sirhe***o sirhello***irhello si***ello sirhe***o sirhello***irhello si***ello sirhe***o sirhello***irhello si***ello sirhe***o sirhello***irhello si***ello sirhe***o sirhello***irhello si***ello sirhe***o sirhello***irhello si***ello sirhe***o sirhello***irhello si***ello sirhe***o sirhello***irhello si***ello sirhe***o sirhello***irhello si***ello sirhe***o sirhello***irhello si***ello sirhe***o sirhello***irhello si***ello sirhe***o sirhello***irhello si***ello sirhe***o sirhello***irhello si***ello sirhe***o sirhello***irhello si***ello sirhe***o sirhello***irhello si***ello sirhe***o sirhello***irhello si***ello sirhe***o sirhello***irhello si***ello sirhe***o sirhello***irhello si***ello sirhe***o sirhello***irhello si***ello sirhe***o sirhello***irhello si***ello sirhe***o sirhello***irhello si***ello sirhe***o sirhello***irhello si***ello sirhe***o sirhello***irhello si***ello sirhe***o sirhello***irhello si***ello sirhe***o sirhello***irhello si***ello sirhe***o sirhello***irhello si***ello sirhe***o sirhello***irhello si***ello sirhe***o sirhello***irhello si***ello sirhe***o sirhello***irhello si***ello sirhe***o sirhello***irhello si***ello sirhe***o sirhello***irhello si***ello sirhe***o sirhello***irhello si***ello sirhe***o sirhello***irhello si***ello sirhe***o sirhello***irhello si***ello sirhe***o sirhello***irhello si***ello sirhe***o sirhello***irhello si***ello sirhe***o sirhello***irhello si***ello sirhe***o sirhello***irhello si***ello sirhe***o sirhello***irhello si***ello sirhe***o sirhello***irhello si***ello sirhe***o sirhello***irhello si***ello sirhe***o sirhello***irhello si***ello sirhe***o sirhello***irhello si***ello sirhe***o sirhello***irhello si***ello sirhe***o sirhello***irhello si***ello sirhe***o sirhello***irhello si***ello sirhe***o sirhello***irhello si***ello sirhe***o sirhello***irhello si***ello sirhe***o sirhello***irhello si***ello sirhe***o sirhello***irhello si***ello sirhe***o sirhello***irhello si***ello sirhe***o sirhello***irhello si***ello sirhe***o sirhello***irhello si***ello sirhe***o sirhello***irhello si***ello sirhe***o sirhello***irhello si***ello sirhe***o sirhello***irhello si***ello sirhe***o sirhello***irhello si***ello sirhe***o sirhello***irhello si***ello sirhe***o sirhello***irhello si***ello sirhe***o sirhello***irhello si***ello sirhe***o sirhello***irhello si***ello sirhe***o sirhello***irhello si***ello sirhe***o sirhello***irhello si***ello sirhe***o sirhello***irhello si***ello sirhe***o sirhello***irhello si***ello sirhe***o sirhello***irhello si***ello sirhe***o sirhello***irhello si***ello sirhe***o sirhello***irhello si***ello sirhe***o sirhello***irhello si***ello sirhe***o sirhello***irhello si***ello sirhe***o sirhello***irhello si***ello sirhe***o sirhello***irhello si***ello sirhe***o sirhello***irhello si***ello sirhe***o sirhello***irhello si***ello sirhe***o sirhello***irhello si***ello sirhe***o sirhello***irhello si***ello sirhe***o sirhello***irhello si***ello sirhe***o sirhello***irhello si***ello sirhe***o sirhello***irhello si***ello sirhe***o sirhello***irhello si***ello sirhe***o sirhello***irhello si***ello sirhe***o sirhello***irhello si***ello sirhe***o sirhello***irhello si***ello sirhe***o sirhello***irhello si***ello sirhe***o sirhello***irhello si***ello sirhe***o sirhello***irhello si***ello sirhe***o sirhello***irhello si***ello sirhe***o sirhello***irhello si***ello sirhe***o sirhello***irhello si***ello sirhe***o sirhello***irhello si***ello sirhe***o sirhello***irhello si***ello sirhe***o sirhello***irhello si***ello sirhe***o sirhello***irhello si***ello sirhe***o sirhello***irhello si***ello sirhe***o sirhello***irhello si***ello sirhe***o sirhello***irhello si***ello sirhe***o sirhello***irhello si***ello sirhe***o sirhello***irhello si***ello sirhe***o sirhello***irhello si***ello sirhe***o sirhello***irhello si***ello sirhe***o sirhello***irhello si***ello sirhe***o sirhello***irhello si***ello sirhe***o sirhello***irhello si***ello sirhe***o sirhello***irhello si***ello sirhe***o sirhello***irhello si***ello sirhe***o sirhello***irhello si***ello sirhe***o sirhello***irhello si***ello sirhe***o sirhello***irhello si***ello sirhe***o sirhello***irhello si***ello sirhe***o sirhello***irhello si***ello sirhe***o sirhello***irhello si***ello sirhe***o sirhello***irhello si***ello sirhe***o sirhello***irhello si***ello sirhe***o sirhello***irhello si***ello sirhe***o sirhello***irhello si***ello sirhe***o sirhello***irhello si***ello sirhe***o sirhello***irhello si***ello sirhe***o sirhello***irhello si***ello sirhe***o sirhello***irhello si***ello sirhe***o sirhello***irhello si***ello sirhe***o sirhello***irhello si***ello sirhe***o sirhello***irhello si***ello sirhe***o sirhello***irhello si***ello sirhe***o sirhello***irhello si***ello sirhe***o sirhello***irhello si***ello sirhe***o sirhello***irhello si***ello sirhe***o sirhello***irhello si***ello sirhe***o sirhello***irhello si***ello sirhe***o sirhello***irhello si***ello sirhe***o sirhello***irhello si***ello sirhe***o sirhello***irhello si***ello sirhe***o sirhello***irhello si***ello sirhe***o sirhello***irhello si***ello sirhe***o sirhello***irhello si***ello sirhe***o sirhello***irhello si***ello sirhe***o sirhello***irhello si***ello sirhe***o sirhello***irhello si***ello sirhe***o sirhello***irhello si***ello sirhe***o sirhello***irhello si***ello sirhe***o sirhello***irhello si***ello sirhe***o sirhello***irhello si***ello sirhe***o sirhello***irhello si***ello sirhe***o sirhello***irhello si***ello sirhe***o sirhello***irhello si***ello sirhe***o sirhello***irhello si***ello sirhe***o sirhello***irhello si***ello sirhe***o sirhello***irhello si***ello sirhe***o sirhello***irhello si***ello sirhe***o sirhello***irhello si***ello sirhe***o sirhello***irhello si***ello sirhe***o sirhello***irhello si***ello sirhe***o sirhello***irhello si***ello sirhe***o sirhello***irhello si***ello sirhe***o sirhello***irhello si***ello sirhe***o sirhello***irhello si***ello sirhe***o sirhello***irhello si***ello sirhe***o sirhello***irhello si***ello sirhe***o sirhello***irhello si***ello sirhe***o sirhello***irhello si***ello sirhe***o sirhello***irhello si***ello sirhe***o sirhello***irhello si***ello sirhe***o sirhello***irhello si***ello sirhe***o sirhello***irhello si***ello sirhe***o sirhello***irhello si***ello sirhe***o sirhello***irhello si***ello sirhe***o sirhello***irhello si***ello sirhe***o sirhello***irhello si***ello sirhe***o sirhello***irhello si***ello sirhe***o sirhello***irhello si***ello sirhe***o sirhello***irhello si***ello sirhe***o sirhello***irhello si***ello sirhe***o sirhello***irhello si***ello sirhe***o sirhello***irhello si***ello sirhe***o sirhello***irhello si***ello sirhe***o sirhello***irhello si***ello sirhe***o sirhello***irhello si***ello sirhe***o sirhello***irhello si***ello sirhe***o sirhello***irhello si***ello sirhe***o sirhello***irhello si***ello sirhe***o sirhello***irhello si***ello sirhe***o sirhello***irhello si***ello sirhe***o sirhello***irhello si***ello sirhe***o sirhello***irhello si***ello sirhe***o sirhello***irhello si***ello sirhe***o sirhello***irhello si***ello sirhe***o sirhello***irhello si***ello sirhe***o sirhello***irhello si***ello sirhe***o sirhello***irhello si***ello sirhe***o sirhello***irhello si***ello sirhe***o sirhello***irhello si***ello sirhe***o sirhello***irhello si***ello sirhe***o sirhello***irhello si***ello sirhe***o sirhello***irhello si***ello sirhe***o sirhello***irhello si***ello sirhe***o sirhello***irhello si***ello sirhe***o sirhello***irhello si***ello sirhe***o sirhello***irhello si***ello sirhe***o sirhello***irhello si***ello sirhe***o sirhello***irhello si***ello sirhe***o sirhello***irhello si***ello sirhe***o sirhello***irhello si***ello sirhe***o sirhello***irhello si***ello sirhe***o sirhello***irhello si***ello sirhe***o sirhello***irhello si***ello sirhe***o sirhello***irhello si***ello sirhe***o sirhello***irhello si***ello sirhe***o sirhello***irhello si***ello sirhe***o sirhello***irhello si***ello sirhe***o sirhello***irhello si***ello sirhe***o sirhello***irhello si***ello sirhe***o sirhello***irhello si***ello sirhe***o sirhello***irhello si***ello sirhe***o sirhello***irhello si***ello sirhe***o sirhello***irhello si***ello sirhe***o sirhello***irhello si***ello sirhe***o sirhello***irhello si***ello sirhe***o sirhello***irhello si***ello sirhe***o sirhello***irhello si***ello sirhe***o sirhello***irhello si***ello sirhe***o sirhello***irhello si***ello sirhe***o sirhello***irhello si***ello sirhe***o sirhello***irhello si***ello sirhe***o sirhello***irhello si***ello sirhe***o sirhello***irhello si***ello sirhe***o sirhello***irhello si***ello sirhe***o sirhello***irhello si***ello sirhe***o sirhello***irhello si***ello sirhe***o sirhello***irhello si***ello sirhe***o sirhello***irhello si***ello sirhe***o sirhello***irhello si***ello sirhe***o sirhello***irhello si***ello sirhe***o sirhello***irhello si***ello sirhe***o sirhello***irhello si***ello sirhe***o sirhello***irhello si***ello sirhe***o sirhello***irhello si***ello sirhe***o sirhello***irhello si***ello sirhe***o sirhello***irhello si***ello sirhe***o sirhello***irhello si***ello sirhe***o sirhello***irhello si***ello sirhe***o sirhello***irhello si***ello sirhe***o sirhello***irhello si***ello sirhe***o sirhello***irhello si***ello sirhe***o sirhello***irhello si***ello sirhe***o sirhello***irhello si***ello sirhe***o sirhello***irhello si***ello sirhe***o sirhello***irhello si***ello sirhe***o sirhello***irhello si***ello sirhe***o sirhello***irhello si***ello sirhe***o sirhello***irhello si***ello sirhe***o sirhello***irhello si***ello sirhe***o sirhello***irhello si***ello sirhe***o sirhello***irhello si***ello sirhe***o sirhello***irhello si***ello sirhe***o sirhello***irhello si***ello sirhe***o sirhello***irhello si***ello sirhe***o sirhello***irhello si***ello sirhe***o sirhello***irhello si***ello sirhe***o sirhello***irhello si***ello sirhe***o sirhello***irhello si***ello sirhe***o sirhello***irhello si***ello sirhe***o sirhello***irhello si***ello sirhe***o sirhello***irhello si***ello sirhe***o sirhello***irhello si***ello sirhe***o sirhello***irhello si***ello sirhe***o sirhello***irhello si***ello sirhe***o sirhello***irhello si***ello sirhe***o sirhello***irhello si***ello sirhe***o sirhello***irhello si***ello sirhe***o sirhello***irhello si***ello sirhe***o sirhello***irhello si***ello sirhe***o sirhello***irhello si***ello sirhe***o sirhello***irhello si***ello sirhe***o sirhello***irhello si***ello sirhe***o sirhello***irhello si***ello sirhe***o sirhello***irhello si***ello sirhe***o sirhello***irhello si***ello sirhe***o sirhello***irhello si***ello sirhe***o sirhello***irhello si***ello sirhe***o sirhello***irhello si***ello sirhe***o sirhello***irhello si***ello sirhe***o sirhello***irhello si***ello sirhe***o sirhello***irhello si***ello sirhe***o sirhello***irhello si***ello sirhe***o sirhello***irhello si***ello sirhe***o sirhello***irhello si***ello sirhe***o sirhello***irhello si***ello sirhe***o sirhello***irhello si***ello sirhe***o sirhello***irhello si***ello sirhe***o sirhello***irhello si***ello sirhe***o sirhello***irhello si***ello sirhe***o sirhello***irhello si***ello sirhe***o sirhello***irhello si***ello sirhe***o sirhello***irhello si***ello sirhe***o sirhello***irhello si***ello sirhe***o sirhello***irhello si***ello sirhe***o sirhello***irhello si***ello sirhe***o sirhello***irhello si***ello sirhe***o sirhello***irhello si***ello sirhe***o sirhello***irhello si***ello sirhe***o sirhello***irhello si***ello sirhe***o sirhello***irhello si***ello sirhe***o sirhello***irhello si***ello sirhe***o sirhello***irhello si***ello sirhe***o sirhello***irhello si***ello sirhe***o sirhello***irhello si***ello sirhe***o sirhello***irhello si***ello sirhe***o sirhello***irhello si***ello sirhe***o sirhello***irhello si***ello sirhe***o sirhello***irhello si***ello sirhe***o sirhello***irhello si***ello sirhe***o sirhello***irhello si***ello sirhe***o sirhello***irhello si***ello sirhe***o sirhello***irhello si***ello sirhe***o sirhello***irhello si***ello sirhe***o sirhello***irhello si***ello sirhe***o sirhello***irhello si***ello sirhe***o sirhello***irhello si***ello sirhe***o sirhello***irhello si***ello sirhe***o sirhello***irhello si***ello sirhe***o sirhello***irhello si***ello sirhe***o sirhello***irhello si***ello sirhe***o sirhello***irhello si***ello sirhe***o sirhello***irhello si***ello sirhe***o sirhello***irhello si***ello sirhe***o sirhello***irhello si***ello sirhe***o sirhello***irhello si***ello sirhe***o sirhello***irhello si***ello sirhe***o sirhello***irhello si***ello sirhe***o sirhello***irhello si***ello sirhe***o sirhello***irhello si***ello sirhe***o sirhello***irhello si***ello sirhe***o sirhello***irhello si***ello sirhe***o sirhello***irhello si***ello sirhe***o sirhello***irhello si***ello sirhe***o sirhello***irhello si***ello sirhe***o sirhello***irhello si***ello sirhe***o sirhello***irhello si***ello sirhe***o sirhello***irhello si***ello sirhe***o sirhello***irhello si***ello sirhe***o sirhello***irhello si***ello sirhe***o sirhello***irhello si***ello sirhe***o sirhello***irhello si***ello sirhe***o sirhello***irhello si***ello sirhe***o sirhello***irhello si***ello sirhe***o sirhello***irhello si***ello sirhe***o sirhello***irhello si***ello sirhe***o sirhello***irhello si***ello sirhe***o sirhello***irhello si***ello sirhe***o sirhello***irhello si***ello sirhe***o sirhello***irhello si***ello sirhe***o sirhello***irhello si***ello sirhe***o sirhello***irhello si***ello sirhe***o sirhello***irhello si***ello sirhe***o sirhello***irhello si***ello sirhe***o sirhello***irhello si***ello sirhe***o sirhello***irhello si***ello sirhe***o sirhello***irhello si***ello sirhe***o sirhello***irhello si***ello sirhe***o sirhello***irhello si***ello sirhe***o sirhello***irhello si***ello sirhe***o sirhello***irhello si***ello sirhe***o sirhello***irhello si***ello sirhe***o sirhello***irhello si***ello sirhe***o sirhello***irhello si***ello sirhe***o sirhello***irhello si***ello sirhe***o sirhello***irhello si***ello sirhe***o sirhello***irhello si***ello sirhe***o sirhello***irhello si***ello sirhe***o sirhello***irhello si***ello sirhe***o sirhello***irhello si***ello sirhe***o sirhello***irhello si***ello sirhe***o sirhello***irhello si***ello sirhe***o sirhello***irhello si***ello sirhe***o sirhello***irhello si***ello sirhe***o sirhello***irhello si***ello sirhe***o sirhello***irhello si***ello sirhe***o sirhello***irhello si***ello sirhe***o sirhello***irhello si***ello sirhe***o sirhello***irhello si***ello sirhe***o sirhello***irhello si***ello sirhe***o sirhello***irhello si***ello sirhe***o sirhello***irhello si***ello sirhe***o sirhello***irhello si***ello sirhe***o sirhello***irhello si***ello sirhe***o sirhello***irhello si***ello sirhe***o sirhello***irhello si***ello sirhe***o sirhello***irhello si***ello sirhe***o sirhello***irhello si***ello sirhe***o sirhello***irhello si***ello sirhe***o sirhello***irhello si***ello sirhe***o sirhello***irhello si***ello sirhe***o sirhello***irhello si***ello sirhe***o sirhello***irhello si***ello sirhe***o sirhello***irhello si***ello sirhe***o sirhello***irhello si***ello sirhe***o sirhello***irhello si***ello sirhe***o sirhello***irhello si***ello sirhe***o sirhello***irhello si***ello sirhe***o sirhello***irhello si***ello sirhe***o sirhello***irhello si***ello sirhe***o sirhello***irhello si***ello sirhe***o sirhello***irhello si***ello sirhe***o sirhello***irhello si***ello sirhe***o sirhello***irhello si***ello sirhe***o sirhello***irhello si***ello sirhe***o sirhello***irhello si***ello sirhe***o sirhello***irhello si***ello sirhe***o sirhello***irhello si***ello sirhe***o sirhello***irhello si***ello sirhe***o sirhello***irhello si***ello sirhe***o sirhello***irhello si***ello sirhe***o sirhello***irhello si***ello sirhe***o sirhello***irhello si***ello sirhe***o sirhello***irhello si***ello sirhe***o sirhello***irhello si***ello sirhe***o sirhello***irhello si***ello sirhe***o sirhello***irhello si***ello sirhe***o sirhello***irhello si***ello sirhe***o sirhello***irhello si***ello sirhe***o sirhello***irhello si***ello sirhe***o sirhello***irhello si***ello sirhe***o sirhello***irhello si***ello sirhe***o sirhello***irhello si***ello sirhe***o sirhello***irhello si***ello sirhe***o sirhello***irhello si***ello sirhe***o sirhello***irhello si***ello sirhe***o sirhello***irhello si***ello sirhe***o sirhello***irhello si***ello sirhe***o sirhello***irhello si***ello sirhe***o sirhello***irhello si***ello sirhe***o sirhello***irhello si***ello sirhe***o sirhello***irhello si***ello sirhe***o sirhello***irhello si***ello sirhe***o sirhello***irhello si***ello sirhe***o sirhello***irhello si***ello sirhe***o sirhello***irhello si***ello sirhe***o sirhello***irhello si***ello sirhe***o sirhello***irhello si***ello sirhe***o sirhello***irhello si***ello sirhe***o sirhello***irhello si***ello sirhe***o sirhello***irhello si***ello sirhe***o sirhello***irhello si***ello sirhe***o sirhello***irhello si***ello sirhe***o sirhello***irhello si***ello sirhe***o sirhello***irhello si***ello sirhe***o sirhello***irhello si***ello sirhe***o sirhello***irhello si***ello sirhe***o sirhello***irhello si***ello sirhe***o sirhello***irhello si***ello sirhe***o sirhello***irhello si***ello sirhe***o sirhello***irhello si***ello sirhe***o sirhello***irhello si***ello sirhe***o sirhello***irhello si***ello sirhe***o sirhello***irhello si***ello sirhe***o sirhello***irhello si***ello sirhe***o sirhello***irhello si***ello sirhe***o sirhello***irhello si***ello sirhe***o sirhello***irhello si***ello sirhe***o sirhello***irhello si***ello sirhe***o sirhello***irhello si***ello sirhe***o sirhello***irhello si***ello sirhe***o sirhello***irhello si***ello sirhe***o sirhello***irhello si***ello sirhe***o sirhello***irhello si***ello sirhe***o sirhello***irhello si***ello sirhe***o sirhello***irhello si***ello sirhe***o sirhello***irhello si***ello sirhe***o sirhello***irhello si***ello sirhe***o sirhello***irhello si***ello sirhe***o sirhello***irhello si***ello sirhe***o sirhello***irhello si***ello sirhe***o sirhello***irhello si***ello sirhe***o sirhello***irhello si***ello sirhe***o sirhello***irhello si***ello sirhe***o sirhello***irhello si***ello sirhe***o sirhello***irhello si***ello sirhe***o sirhello***irhello si***ello sirhe***o sirhello***irhello si***ello sirhe***o sirhello***irhello si***ello sirhe***o sirhello***irhello si***ello sirhe***o sirhello***irhello si***ello sirhe***o sirhello***irhello si***ello sirhe***o sirhello***irhello si***ello sirhe***o sirhello***irhello si***ello sirhe***o sirhello***irhello si***ello sirhe***o sirhello***irhello si***ello sirhe***o sirhello***irhello si***ello sirhe***o sirhello***irhello si***ello sirhe***o sirhello***irhello si***ello sirhe***o sirhello***irhello si***ello sirhe***o sirhello***irhello si***ello sirhe***o sirhello***irhello si***ello sirhe***o sirhello***irhello si***ello sirhe***o sirhello***irhello si***ello sirhe***o sirhello***irhello si***ello sirhe***o sirhello***irhello si***ello sirhe***o sirhello***irhello si***ello sirhe***o sirhello***irhello si***ello sirhe***o sirhello***irhello si***ello sirhe***o sirhello***irhello si***ello sirhe***o sirhello***irhello si***ello sirhe***o sirhello***irhello si***ello sirhe***o sirhello***irhello si***ello sirhe***o sirhello***irhello si***ello sirhe***o sirhello***irhello si***ello sirhe***o sirhello***irhello si***ello sirhe***o sirhello***irhello si***ello sirhe***o sirhello***irhello si***ello sirhe***o sirhello***irhello si***ello sirhe***o sirhello***irhello si***ello sirhe***o sirhello***irhello si***ello sirhe***o sirhello***irhello si***ello sirhe***o sirhello***irhello si***ello sirhe***o sirhello***irhello si***ello sirhe***o sirhello***irhello si***ello sirhe***o sirhello***irhello si***ello sirhe***o sirhello***irhello si***ello sirhe***o sirhello***irhello si***ello sirhe***o sirhello***irhello si***ello sirhe***o sirhello***irhello si***ello sirhe***o sirhello***irhello si***ello sirhe***o sirhello***irhello si***ello sirhe***o sirhello***irhello si***ello sirhe***o sirhello***irhello si***ello sirhe***o sirhello***irhello si***ello sirhe***o sirhello***irhello si***ello sirhe***o sirhello***irhello si***ello sirhe***o sirhello***irhello si***ello sirhe***o sirhello***irhello si***ello sirhe***o sirhello***irhello si***ello sirhe***o sirhello***irhello si***ello sirhe***o sirhello***irhello si***ello sirhe***o sirhello***irhello si***ello sirhe***o sirhello***irhello si***ello sirhe***o sirhello***irhello si***ello sirhe***o sirhello***irhello si***ello sirhe***o sirhello***irhello si***ello sirhe***o sirhello***irhello si***ello sirhe***o sirhello***irhello si***ello sirhe***o sirhello***irhello si***ello sirhe***o sirhello***irhello si***ello sirhe***o sirhello***irhello si***ello sirhe***o sirhello***irhello si***ello sirhe***o sirhello***irhello si***ello sirhe***o sirhello***irhello si***ello sirhe***o sirhello***irhello si***ello sirhe***o sirhello***irhello si***ello sirhe***o sirhello***irhello si***ello sirhe***o sirhello***irhello si***ello sirhe***o sirhello***irhello si***ello sirhe***o sirhello***irhello si***ello sirhe***o sirhello***irhello si***ello sirhe***o sirhello***irhello si***ello sirhe***o sirhello***irhello si***ello sirhe***o sirhello***irhello si***ello sirhe***o sirhello***irhello si***ello sirhe***o sirhello***irhello si***ello sirhe***o sirhello***irhello si***ello sirhe***o sirhello***irhello si***ello sirhe***o sirhello***irhello si***ello sirhe***o sirhello***irhello si***ello sirhe***o sirhello***irhello si***ello sirhe***o sirhello***irhello si***ello sirhe***o sirhello***irhello si***ello sirhe***o sirhello***irhello si***ello sirhe***o sirhello***irhello si***ello sirhe***o sirhello***irhello si***ello sirhe***o sirhello***irhello si***ello sirhe***o sirhello***irhello si***ello sirhe***o sirhello***irhello si***ello sirhe***o sirhello***irhello si***ello sirhe***o sirhello***irhello si***ello sirhe***o sirhello***irhello si***ello sirhe***o sirhello***irhello si***ello sirhe***o sirhello***irhello si***ello sirhe***o sirhello***irhello si***ello sirhe***o sirhello***irhello si***ello sirhe***o sirhello***irhello si***ello sirhe***o sirhello***irhello si***ello sirhe***o sirhello***irhello si***ello sirhe***o sirhello***irhello si***ello sirhe***o sirhello***irhello si***ello sirhe***o sirhello***irhello si***ello sirhe***o sirhello***irhello si***ello sirhe***o sirhello***irhello si***ello sirhe***o sirhello***irhello si***ello sirhe***o sirhello***irhello si***ello sirhe***o sirhello***irhello si***ello sirhe***o sirhello***irhello si***ello sirhe***o sirhello***irhello si***ello sirhe***o sirhello***irhello si***ello sirhe***o sirhello***irhello si***ello sirhe***o sirhello***irhello si***ello sirhe***o sirhello***irhello si***ello sirhe***o sirhello***irhello si***ello sirhe***o sirhello***irhello si***ello sirhe***o sirhello***irhello si***ello sirhe***o sirhello***irhello si***ello sirhe***o sirhello***irhello si***ello sirhe***o sirhello***irhello si***ello sirhe***o sirhello***irhello si***ello sirhe***o sirhello***irhello si***ello sirhe***o sirhello***irhello si***ello sirhe***o sirhello***irhello si***ello sirhe***o sirhello***irhello si***ello sirhe***o sirhello***irhello si***ello sirhe***o sirhello***irhello si***ello sirhe***o sirhello***irhello si***ello sirhe***o sirhello***irhello si***ello sirhe***o sirhello***irhello si***ello sirhe***o sirhello***irhello si***ello sirhe***o sirhello***irhello si***ello sirhe***o sirhello***irhello si***ello sirhe***o sirhello***irhello si***ello sirhe***o sirhello***irhello si***ello sirhe***o sirhello***irhello si***ello sirhe***o sirhello***irhello si***ello sirhe***o sirhello***irhello si***ello sirhe***o sirhello***irhello si***ello sirhe***o sirhello***irhello si***ello sirhe***o sirhello***irhello si***ello sirhe***o sirhello***irhello si***ello sirhe***o sirhello***irhello si***ello sirhe***o sirhello***irhello si***ello sirhe***o sirhello***irhello si***ello sirhe***o sirhello***irhello si***ello sirhe***o sirhello***irhello si***ello sirhe***o sirhello***irhello si***ello sirhe***o sirhello***irhello si***ello sirhe***o sirhello***irhello si***ello sirhe***o sirhello***irhello si***ello sirhe***o sirhello***irhello si***ello sirhe***o sirhello***irhello si***ello sirhe***o sirhello***irhello si***ello sirhe***o sirhello***irhello si***ello sirhe***o sirhello***irhello si***ello sirhe***o sirhello***irhello si***ello sirhe***o sirhello***irhello si***ello sirhe***o sirhello***irhello si***ello sirhe***o sirhello***irhello si***ello sirhe***o sirhello***irhello si***ello sirhe***o sirhello***irhello si***ello sirhe***o sirhello***irhello si***ello sirhe***o sirhello***irhello si***ello sirhe***o sirhello***irhello si***ello sirhe***o sirhello***irhello si***ello sirhe***o sirhello***irhello si***ello sirhe***o sirhello***irhello si***ello sirhe***o sirhello***irhello si***ello sirhe***o sirhello***irhello si***ello sirhe***o sirhello***irhello si***ello sirhe***o sirhello***irhello si***ello sirhe***o sirhello***irhello si***ello sirhe***o sirhello***irhello si***ello sirhe***o sirhello***irhello si***ello sirhe***o sirhello***irhello si***ello sirhe***o sirhello***irhello si***ello sirhe***o sirhello***irhello si***ello sirhe***o sirhello***irhello si***ello sirhe***o sirhello***irhello si***ello sirhe***o sirhello***irhello si***ello sirhe***o sirhello***irhello si***ello sirhe***o sirhello***irhello si***ello sirhe***o sirhello***irhello si***ello sirhe***o sirhello***irhello si***ello sirhe***o sirhello***irhello si***ello sirhe***o sirhello***irhello si***ello sirhe***o sirhello***irhello si***ello sirhe***o sirhello***irhello si***ello sirhe***o sirhello***irhello si***ello sirhe***o sirhello***irhello si***ello sirhe***o sirhello***irhello si***ello sirhe***o sirhello***irhello si***ello sirhe***o sirhello***irhello si***ello sirhe***o sirhello***irhello si***ello sirhe***o sirhello***irhello si***ello sirhe***o sirhello***irhello si***ello sirhe***o sirhello***irhello si***ello sirhe***o sirhello***irhello si***ello sirhe***o sirhello***irhello si***ello sirhe***o sirhello***irhello si***ello sirhe***o sirhello***irhello si***ello sirhe***o sirhello***irhello si***ello sirhe***o sirhello***irhello si***ello sirhe***o sirhello***irhello si***ello sirhe***o sirhello***irhello si***ello sirhe***o sirhello***irhello si***ello sirhe***o sirhello***irhello si***ello sirhe***o sirhello***irhello si***ello sirhe***o sirhello***irhello si***ello sirhe***o sirhello***irhello si***ello sirhe***o sirhello***irhello si***ello sirhe***o sirhello***irhello si***ello sirhe***o sirhello***irhello si***ello sirhe***o sirhello***irhello si***ello sirhe***o sirhello***irhello si***ello sirhe***o sirhello***irhello si***ello sirhe***o sirhello***irhello si***ello sirhe***o sirhello***irhello si***ello sirhe***o sirhello***irhello si***ello sirhe***o sirhello***irhello si***ello sirhe***o sirhello***irhello si***ello sirhe***o sirhello***irhello si***ello sirhe***o sirhello***irhello si***ello sirhe***o sirhello***irhello si***ello sirhe***o sirhello***irhello si***ello sirhe***o sirhello***irhello si***ello sirhe***o sirhello***irhello si***ello sirhe***o sirhello***irhello si***ello sirhe***o sirhello***irhello si***ello sirhe***o sirhello***irhello si***ello sirhe***o sirhello***irhello si***ello sirhe***o sirhello***irhello si***ello sirhe***o sirhello***irhello si***ello sirhe***o sirhello***irhello si***ello sirhe***o sirhello***irhello si***ello sirhe***o sirhello***irhello si***ello sirhe***o sirhello***irhello si***ello sirhe***o sirhello***irhello si***ello sirhe***o sirhello***irhello si***"
     ]
    }
   ],
   "source": [
    "with open('big.txt','r') as f:\n",
    "    \n",
    "    chuck_size = 10 \n",
    "    \n",
    "    while len(f.read(chuck_size)) > 0:\n",
    "        print(f.read(chuck_size),end='***')\n",
    "        f.read(chuck_size)"
   ]
  },
  {
   "cell_type": "code",
   "execution_count": 52,
   "id": "ddb7be1e",
   "metadata": {},
   "outputs": [
    {
     "name": "stdout",
     "output_type": "stream",
     "text": [
      "\n",
      "15\n",
      "\n",
      "15\n"
     ]
    }
   ],
   "source": [
    "# seek and tell function\n",
    "with open('sample.txt','r') as f:\n",
    "  f.seek(15)\n",
    "  print(f.read(10))\n",
    "  print(f.tell())\n",
    "  \n",
    "  print(f.read(10))\n",
    "  print(f.tell())"
   ]
  },
  {
   "cell_type": "code",
   "execution_count": 53,
   "id": "e77c9f2c",
   "metadata": {},
   "outputs": [],
   "source": [
    "with open('sample.txt','w') as f:\n",
    "    f.write('Hello')\n",
    "    f.seek(0)\n",
    "    f.write('Xa')"
   ]
  },
  {
   "cell_type": "code",
   "execution_count": null,
   "id": "11785f88",
   "metadata": {},
   "outputs": [],
   "source": []
  },
  {
   "cell_type": "code",
   "execution_count": null,
   "id": "63e3fad3",
   "metadata": {},
   "outputs": [],
   "source": []
  },
  {
   "cell_type": "code",
   "execution_count": null,
   "id": "5d80cc31",
   "metadata": {},
   "outputs": [],
   "source": []
  },
  {
   "cell_type": "code",
   "execution_count": null,
   "id": "362e911a",
   "metadata": {},
   "outputs": [],
   "source": []
  },
  {
   "cell_type": "code",
   "execution_count": null,
   "id": "7153bf26",
   "metadata": {},
   "outputs": [],
   "source": []
  },
  {
   "cell_type": "code",
   "execution_count": null,
   "id": "0bd3c01d",
   "metadata": {},
   "outputs": [],
   "source": []
  }
 ],
 "metadata": {
  "kernelspec": {
   "display_name": "Python 3 (ipykernel)",
   "language": "python",
   "name": "python3"
  },
  "language_info": {
   "codemirror_mode": {
    "name": "ipython",
    "version": 3
   },
   "file_extension": ".py",
   "mimetype": "text/x-python",
   "name": "python",
   "nbconvert_exporter": "python",
   "pygments_lexer": "ipython3",
   "version": "3.10.9"
  }
 },
 "nbformat": 4,
 "nbformat_minor": 5
}
